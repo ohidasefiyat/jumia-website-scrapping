{
 "cells": [
  {
   "cell_type": "code",
   "execution_count": 2,
   "metadata": {},
   "outputs": [],
   "source": [
    "import requests\n",
    "import bs4\n",
    "import pymysql.cursors\n",
    "from tabulate import tabulate\n",
    "\n",
    "\n",
    "\n",
    "#create a database connection\n",
    "\n",
    "import pymysql.cursors\n",
    "\n",
    "# wrap Db in class\n",
    "class DB_Query_Main():\n",
    "    \n",
    "    #connection to db\n",
    "    def connect_to_db(self):\n",
    "        connection = pymysql.connect(host='localhost',\n",
    "                             user='root',\n",
    "                             password='',\n",
    "                             db='techbridge',\n",
    "                             charset='utf8mb4',\n",
    "                             cursorclass=pymysql.cursors.DictCursor)\n",
    "        return connection\n",
    "\n",
    "    \n",
    "   \n",
    "    #create a table\n",
    "    def table(self, command):\n",
    "        connection = self.connect_to_db()\n",
    "        \n",
    "        try:\n",
    "            with connection.cursor() as cursor:\n",
    "                cursor.execute(command)\n",
    "            \n",
    "            connection.commit()\n",
    "        \n",
    "        finally:\n",
    "            connection.close()\n",
    "            \n",
    "        \n",
    "    #fetch from the db\n",
    "    def fetch_db(self, command, qty_to_fetch = 10):\n",
    "        connection = self.connect_to_db()\n",
    "        \n",
    "        try:\n",
    "            with connection.cursor() as cursor:\n",
    "                cursor.execute(command)\n",
    "                \n",
    "                if qty_to_fetch == \"all\":\n",
    "                    result = cursor.fetchall()\n",
    "                else:\n",
    "                    result = cursor.fetchmany(qty_to_fetch)\n",
    "        finally:\n",
    "            connection.close()\n",
    "        return result\n",
    "        \n",
    "    #write to Db\n",
    "    def write_db(self, command):\n",
    "        \n",
    "        connection = self.connect_to_db()\n",
    "        \n",
    "        try:\n",
    "            with connection.cursor() as cursor:\n",
    "                cursor.execute(command)\n",
    "                \n",
    "            connection.commit()\n",
    "        \n",
    "        finally:\n",
    "            connection.close()\n",
    "        \n",
    "\n",
    "\n",
    "\n",
    "\n",
    "   "
   ]
  },
  {
   "cell_type": "code",
   "execution_count": 3,
   "metadata": {},
   "outputs": [],
   "source": [
    "url_source = \"https://www.jumia.com.ng/computing/hp/?q=hp+laptops\"\n",
    "url_data = requests.get(url_source)\n",
    "\n",
    "html_content = bs4.BeautifulSoup(url_data.content)\n",
    "\n",
    "all_items = html_content(\"article\", {\"class\":\"prd\"})\n",
    "\n",
    "products = []\n",
    "prices = []\n",
    "\n",
    "\n",
    "\n",
    "#all_products_prices.write(\"products,prices\\n\")\n",
    "\n",
    "for item in all_items:\n",
    "    product_names = item.find(\"h3\", {\"class\":\"name\"})\n",
    "    product_prices = item.find(\"div\", {\"class\":\"prc\"})\n",
    "    \n",
    "#     print(product_prices.text)   \n",
    "    \n",
    "    try:\n",
    "        products.append(product_names.text.\n",
    "                       replace(\";\", \"\").\n",
    "                       replace(\",\", \"\")) \n",
    "        prices.append(int(product_prices.text.replace(\"₦\", \"\").replace(\",\", \"\")))\n",
    "                \n",
    "    except:\n",
    "        continue\n",
    "file = open(\"Products_and_Prices.csv\", \"w\") \n",
    "file.write(\"product Names, Product Prices\\n\")\n",
    "for product, price in zip(products, prices):\n",
    "    product_prices = (price)\n",
    "    product_names = (product)\n",
    "    \n",
    "     file.write(f\"{product_names}, {product_prices}\\n\")\n",
    "\n",
    "        \n",
    "        \n",
    "file.close()\n",
    "print(products)\n",
    "print(prices)\n",
    "    "
   ]
  },
  {
   "cell_type": "code",
   "execution_count": 4,
   "metadata": {},
   "outputs": [
    {
     "name": "stdout",
     "output_type": "stream",
     "text": [
      "Minimum Price =  119000\n",
      "\n",
      "Maximum Price =  650000\n"
     ]
    }
   ],
   "source": [
    "\n",
    "print(\"Minimum Price = \" , min(prices))\n",
    "print(\"\\nMaximum Price = \" ,max(prices))\n"
   ]
  },
  {
   "cell_type": "code",
   "execution_count": 5,
   "metadata": {},
   "outputs": [
    {
     "name": "stdout",
     "output_type": "stream",
     "text": [
      "('Hp ENVY 15 X360 CORE I7 16GB 1TB SSD 15.6\" IPS 4GB NVIDIA MX330', 650000)\n",
      "('Hp Stream 11 Intel Celeron 2GB RAM- 32GB HDD WIN 10+ 32GB FLASH', 119000)\n"
     ]
    }
   ],
   "source": [
    "all_products = list(zip(products, prices))\n",
    "\n",
    "max_product = sorted(all_products, key = lambda products : products[1], reverse = True)[0]\n",
    "min_product = sorted(all_products, key = lambda products : products[1], reverse = True)[-1]\n",
    "\n",
    "print(max_product)\n",
    "print(min_product)"
   ]
  },
  {
   "cell_type": "code",
   "execution_count": 7,
   "metadata": {},
   "outputs": [],
   "source": [
    "messenger = DB_Query_Main()\n",
    "\n",
    "#create table \n",
    "\n",
    "messenger.table(\"CREATE TABLE IF NOT EXISTS jumiaProducts(id int(5) NOT NULL AUTO_INCREMENT PRIMARY KEY, product_name varchar(55), product_price int(55))\")\n",
    "\n",
    "for product, price in zip(products, prices):\n",
    "    messenger.write_db(f\"INSERT INTO jumiaProducts(product_name, product_price) VALUES('{product}','{price}')\")"
   ]
  },
  {
   "cell_type": "code",
   "execution_count": 11,
   "metadata": {},
   "outputs": [],
   "source": [
    "# raw_data = \"https://www.aliexpress.com/af/iPhones.html?d=y&origin=n&SearchText=iPhones&catId=0&initiative_id=SB_20210116063930\"\n",
    "# url_data = requests.get(raw_data)\n",
    "\n",
    "# html_content = bs4.BeautifulSoup(url_data.content)\n",
    "\n",
    "# print(html_content)\n"
   ]
  },
  {
   "cell_type": "code",
   "execution_count": 10,
   "metadata": {},
   "outputs": [],
   "source": [
    "# product_list = html_content.find_all(\"li\", {\"class\": \"list-item\"})\n",
    "# product_site = []\n",
    "# for items in product_list:\n",
    "#     product_name = items.find(\"li\", {\"class\":\"list-item\"})\n",
    "    \n",
    "#     product_site.append(product_name.text)\n",
    "    \n",
    "# print(product_list)"
   ]
  },
  {
   "cell_type": "code",
   "execution_count": null,
   "metadata": {},
   "outputs": [],
   "source": []
  },
  {
   "cell_type": "code",
   "execution_count": null,
   "metadata": {},
   "outputs": [],
   "source": []
  }
 ],
 "metadata": {
  "kernelspec": {
   "display_name": "Python 3",
   "language": "python",
   "name": "python3"
  },
  "language_info": {
   "codemirror_mode": {
    "name": "ipython",
    "version": 3
   },
   "file_extension": ".py",
   "mimetype": "text/x-python",
   "name": "python",
   "nbconvert_exporter": "python",
   "pygments_lexer": "ipython3",
   "version": "3.7.8"
  }
 },
 "nbformat": 4,
 "nbformat_minor": 4
}
